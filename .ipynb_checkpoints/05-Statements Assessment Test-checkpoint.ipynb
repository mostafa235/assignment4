{
 "cells": [
  {
   "cell_type": "markdown",
   "metadata": {
    "collapsed": true
   },
   "source": [
    "# Statements Assessment Test\n",
    "Let's test your knowledge!"
   ]
  },
  {
   "cell_type": "markdown",
   "metadata": {},
   "source": [
    "**Use <code>for</code>, .split(), and <code>if</code> to create a Statement that will print out words that start with 's':**"
   ]
  },
  {
   "cell_type": "code",
   "execution_count": 53,
   "metadata": {},
   "outputs": [],
   "source": [
    "st = 'Print only the words that start with s in this sentence'"
   ]
  },
  {
   "cell_type": "code",
   "execution_count": 54,
   "metadata": {},
   "outputs": [
    {
     "name": "stdout",
     "output_type": "stream",
     "text": [
      "start\n",
      "s\n",
      "sentence\n"
     ]
    }
   ],
   "source": [
    "my_list=st.split()\n",
    "for word in my_list:\n",
    "    if word[0]=='s':\n",
    "        print(word)"
   ]
  },
  {
   "cell_type": "markdown",
   "metadata": {},
   "source": [
    "______\n",
    "**Use range() to print all the even numbers from 0 to 10.**"
   ]
  },
  {
   "cell_type": "code",
   "execution_count": 55,
   "metadata": {},
   "outputs": [
    {
     "name": "stdout",
     "output_type": "stream",
     "text": [
      "even number is 0\n",
      "even number is 2\n",
      "even number is 4\n",
      "even number is 6\n",
      "even number is 8\n",
      "even number is 10\n"
     ]
    }
   ],
   "source": [
    "for value in range(0,11):\n",
    "    #even number\n",
    "    if value%2==0:\n",
    "        print(f'even number is {value}')\n",
    "        "
   ]
  },
  {
   "cell_type": "markdown",
   "metadata": {},
   "source": [
    "___\n",
    "**Use a List Comprehension to create a list of all numbers between 1 and 50 that are divisible by 3.**"
   ]
  },
  {
   "cell_type": "code",
   "execution_count": 56,
   "metadata": {},
   "outputs": [
    {
     "data": {
      "text/plain": [
       "[3, 6, 9, 12, 15, 18, 21, 24, 27, 30, 33, 36, 39, 42, 45, 48]"
      ]
     },
     "execution_count": 56,
     "metadata": {},
     "output_type": "execute_result"
    }
   ],
   "source": [
    "my_list=[value for value in range(1,51) if value%3==0]\n",
    "my_list"
   ]
  },
  {
   "cell_type": "markdown",
   "metadata": {},
   "source": [
    "_____\n",
    "**Go through the string below and if the length of a word is even print \"even!\"**"
   ]
  },
  {
   "cell_type": "code",
   "execution_count": 57,
   "metadata": {},
   "outputs": [],
   "source": [
    "st = 'Print every word in this sentence that has an even number of letters'"
   ]
  },
  {
   "cell_type": "code",
   "execution_count": 58,
   "metadata": {},
   "outputs": [
    {
     "name": "stdout",
     "output_type": "stream",
     "text": [
      " ( word) is even\n",
      " ( in) is even\n",
      " ( this) is even\n",
      " ( sentence) is even\n",
      " ( that) is even\n",
      " ( an) is even\n",
      " ( even) is even\n",
      " ( number) is even\n",
      " ( of) is even\n"
     ]
    }
   ],
   "source": [
    "my_list=st.split(' ')\n",
    "for value in my_list:\n",
    "    if len(value)%2==0:\n",
    "        print(f\" ( {value}) is even\")\n",
    "    "
   ]
  },
  {
   "cell_type": "markdown",
   "metadata": {},
   "source": [
    "____\n",
    "**Write a program that prints the integers from 1 to 100. But for multiples of three print \"Fizz\" instead of the number, and for the multiples of five print \"Buzz\". For numbers which are multiples of both three and five print \"FizzBuzz\".**"
   ]
  },
  {
   "cell_type": "code",
   "execution_count": 59,
   "metadata": {},
   "outputs": [
    {
     "name": "stdout",
     "output_type": "stream",
     "text": [
      "number is 1\n",
      "\n",
      "number is 2\n",
      "\n",
      "multiple of three Fizz\n",
      "\n",
      "number is 4\n",
      "\n",
      "multiple of five  Buzz\n",
      "\n",
      "multiple of three Fizz\n",
      "\n",
      "number is 7\n",
      "\n",
      "number is 8\n",
      "\n",
      "multiple of three Fizz\n",
      "\n",
      "multiple of five  Buzz\n",
      "\n",
      "number is 11\n",
      "\n",
      "multiple of three Fizz\n",
      "\n",
      "number is 13\n",
      "\n",
      "number is 14\n",
      "\n",
      "multiple of three and five  FizzBuzz\n",
      "\n",
      "number is 16\n",
      "\n",
      "number is 17\n",
      "\n",
      "multiple of three Fizz\n",
      "\n",
      "number is 19\n",
      "\n",
      "multiple of five  Buzz\n",
      "\n",
      "multiple of three Fizz\n",
      "\n",
      "number is 22\n",
      "\n",
      "number is 23\n",
      "\n",
      "multiple of three Fizz\n",
      "\n",
      "multiple of five  Buzz\n",
      "\n",
      "number is 26\n",
      "\n",
      "multiple of three Fizz\n",
      "\n",
      "number is 28\n",
      "\n",
      "number is 29\n",
      "\n",
      "multiple of three and five  FizzBuzz\n",
      "\n",
      "number is 31\n",
      "\n",
      "number is 32\n",
      "\n",
      "multiple of three Fizz\n",
      "\n",
      "number is 34\n",
      "\n",
      "multiple of five  Buzz\n",
      "\n",
      "multiple of three Fizz\n",
      "\n",
      "number is 37\n",
      "\n",
      "number is 38\n",
      "\n",
      "multiple of three Fizz\n",
      "\n",
      "multiple of five  Buzz\n",
      "\n",
      "number is 41\n",
      "\n",
      "multiple of three Fizz\n",
      "\n",
      "number is 43\n",
      "\n",
      "number is 44\n",
      "\n",
      "multiple of three and five  FizzBuzz\n",
      "\n",
      "number is 46\n",
      "\n",
      "number is 47\n",
      "\n",
      "multiple of three Fizz\n",
      "\n",
      "number is 49\n",
      "\n",
      "multiple of five  Buzz\n",
      "\n",
      "multiple of three Fizz\n",
      "\n",
      "number is 52\n",
      "\n",
      "number is 53\n",
      "\n",
      "multiple of three Fizz\n",
      "\n",
      "multiple of five  Buzz\n",
      "\n",
      "number is 56\n",
      "\n",
      "multiple of three Fizz\n",
      "\n",
      "number is 58\n",
      "\n",
      "number is 59\n",
      "\n",
      "multiple of three and five  FizzBuzz\n",
      "\n",
      "number is 61\n",
      "\n",
      "number is 62\n",
      "\n",
      "multiple of three Fizz\n",
      "\n",
      "number is 64\n",
      "\n",
      "multiple of five  Buzz\n",
      "\n",
      "multiple of three Fizz\n",
      "\n",
      "number is 67\n",
      "\n",
      "number is 68\n",
      "\n",
      "multiple of three Fizz\n",
      "\n",
      "multiple of five  Buzz\n",
      "\n",
      "number is 71\n",
      "\n",
      "multiple of three Fizz\n",
      "\n",
      "number is 73\n",
      "\n",
      "number is 74\n",
      "\n",
      "multiple of three and five  FizzBuzz\n",
      "\n",
      "number is 76\n",
      "\n",
      "number is 77\n",
      "\n",
      "multiple of three Fizz\n",
      "\n",
      "number is 79\n",
      "\n",
      "multiple of five  Buzz\n",
      "\n",
      "multiple of three Fizz\n",
      "\n",
      "number is 82\n",
      "\n",
      "number is 83\n",
      "\n",
      "multiple of three Fizz\n",
      "\n",
      "multiple of five  Buzz\n",
      "\n",
      "number is 86\n",
      "\n",
      "multiple of three Fizz\n",
      "\n",
      "number is 88\n",
      "\n",
      "number is 89\n",
      "\n",
      "multiple of three and five  FizzBuzz\n",
      "\n",
      "number is 91\n",
      "\n",
      "number is 92\n",
      "\n",
      "multiple of three Fizz\n",
      "\n",
      "number is 94\n",
      "\n",
      "multiple of five  Buzz\n",
      "\n",
      "multiple of three Fizz\n",
      "\n",
      "number is 97\n",
      "\n",
      "number is 98\n",
      "\n",
      "multiple of three Fizz\n",
      "\n",
      "multiple of five  Buzz\n",
      "\n"
     ]
    }
   ],
   "source": [
    "for value in range(1,101):\n",
    "    if value%3==0 and value%5==0:\n",
    "        print(f\"multiple of three and five  FizzBuzz\\n\")\n",
    "    elif value%3==0:\n",
    "        print(f\"multiple of three Fizz\\n\")\n",
    "    elif value%5==0:\n",
    "        print(f\"multiple of five  Buzz\\n\") \n",
    "\n",
    "    else:\n",
    "        print(f\"number is {value}\\n\")"
   ]
  },
  {
   "cell_type": "markdown",
   "metadata": {},
   "source": [
    "____\n",
    "**Use List Comprehension to create a list of the first letters of every word in the string below:**"
   ]
  },
  {
   "cell_type": "code",
   "execution_count": 60,
   "metadata": {},
   "outputs": [],
   "source": [
    "st = 'Create a list of the first letters of every word in this string'"
   ]
  },
  {
   "cell_type": "code",
   "execution_count": 61,
   "metadata": {},
   "outputs": [
    {
     "data": {
      "text/plain": [
       "['C', 'a', 'l', 'o', 't', 'f', 'l', 'o', 'e', 'w', 'i', 't', 's']"
      ]
     },
     "execution_count": 61,
     "metadata": {},
     "output_type": "execute_result"
    }
   ],
   "source": [
    "my_list=[word[0] for word in st.split()]\n",
    "my_list"
   ]
  },
  {
   "cell_type": "markdown",
   "metadata": {},
   "source": [
    "### Great Job!"
   ]
  }
 ],
 "metadata": {
  "kernelspec": {
   "display_name": "Python 3",
   "language": "python",
   "name": "python3"
  },
  "language_info": {
   "codemirror_mode": {
    "name": "ipython",
    "version": 3
   },
   "file_extension": ".py",
   "mimetype": "text/x-python",
   "name": "python",
   "nbconvert_exporter": "python",
   "pygments_lexer": "ipython3",
   "version": "3.7.6"
  }
 },
 "nbformat": 4,
 "nbformat_minor": 1
}
